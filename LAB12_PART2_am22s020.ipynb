{
 "cells": [
  {
   "cell_type": "markdown",
   "id": "d8245989",
   "metadata": {},
   "source": [
    "## implementing SVM on make_blob dataset"
   ]
  },
  {
   "cell_type": "code",
   "execution_count": null,
   "id": "e317fc25",
   "metadata": {},
   "outputs": [],
   "source": [
    "import matplotlib.pyplot as plt\n",
    "import numpy as np\n",
    "from sklearn import datasets\n",
    "from sklearn.model_selection import train_test_split\n"
   ]
  },
  {
   "cell_type": "code",
   "execution_count": null,
   "id": "6038130d",
   "metadata": {},
   "outputs": [],
   "source": [
    "# we create 50 separable points\n",
    "X, y = datasets.make_blobs(\n",
    "        n_samples=50, n_features=2, centers=2, cluster_std=1.05, random_state=40)\n",
    "y = np.where(y == 0, -1, 1)\n"
   ]
  },
  {
   "cell_type": "code",
   "execution_count": null,
   "id": "b92ce5bb",
   "metadata": {},
   "outputs": [],
   "source": [
    "class SVM:\n",
    "    def __init__(self, learning_rate=0.001, lambda_param=0.01, n_iters=1000):\n",
    "        self.lr = learning_rate\n",
    "        self.lambda_param = lambda_param\n",
    "        self.n_iters = n_iters\n",
    "        self.w = None\n",
    "        self.b = None\n",
    "\n",
    "    def fit(self, X, y):\n",
    "        n_samples, n_features = X.shape\n",
    "\n",
    "        y_ = np.where(y <= 0, -1, 1)\n",
    "\n",
    "        self.w = np.zeros(n_features)\n",
    "        self.b = 0\n",
    "\n",
    "        for _ in range(self.n_iters):\n",
    "            for idx, x_i in enumerate(X):\n",
    "                condition = y_[idx] * (np.dot(x_i, self.w) - self.b) >= 1\n",
    "                if condition:\n",
    "                    self.w -= self.lr * (2 * self.lambda_param * self.w)\n",
    "                else:\n",
    "                    self.w -= self.lr * (\n",
    "                        2 * self.lambda_param * self.w - np.dot(x_i, y_[idx])\n",
    "                    )\n",
    "                    self.b -= self.lr * y_[idx]\n",
    "\n",
    "    def predict(self, X):\n",
    "        approx = np.dot(X, self.w) - self.b\n",
    "        return np.sign(approx)\n",
    "\n",
    "\n"
   ]
  },
  {
   "cell_type": "code",
   "execution_count": null,
   "id": "438ad77d",
   "metadata": {},
   "outputs": [],
   "source": [
    "# Training and Testing\n",
    "\n",
    "clf = SVM()  # instatntiate classifier\n",
    "clf.fit(X, y) # train the classifier\n",
    "\n",
    "\n",
    "print(\"The wights are:\",clf.w, clf.b)  \n",
    "\n",
    "def visualize_svm():\n",
    "    def get_hyperplane_value(x, w, b, offset):\n",
    "        return (-w[0] * x + b + offset) / w[1]\n",
    "\n",
    "    fig = plt.figure()\n",
    "    ax = fig.add_subplot(1, 1, 1)\n",
    "    plt.scatter(X[:, 0], X[:, 1], marker=\"o\", c=y)\n",
    "\n",
    "    x0_1 = np.amin(X[:, 0])\n",
    "    x0_2 = np.amax(X[:, 0])\n",
    "\n",
    "    x1_1 = get_hyperplane_value(x0_1, clf.w, clf.b, 0)\n",
    "    x1_2 = get_hyperplane_value(x0_2, clf.w, clf.b, 0)\n",
    "\n",
    "    x1_1_m = get_hyperplane_value(x0_1, clf.w, clf.b, -1)\n",
    "    x1_2_m = get_hyperplane_value(x0_2, clf.w, clf.b, -1)\n",
    "\n",
    "    x1_1_p = get_hyperplane_value(x0_1, clf.w, clf.b, 1)\n",
    "    x1_2_p = get_hyperplane_value(x0_2, clf.w, clf.b, 1)\n",
    "\n",
    "    ax.plot([x0_1, x0_2], [x1_1, x1_2], \"y--\")\n",
    "    ax.plot([x0_1, x0_2], [x1_1_m, x1_2_m], \"k\")\n",
    "    ax.plot([x0_1, x0_2], [x1_1_p, x1_2_p], \"k\")\n",
    "\n",
    "    x1_min = np.amin(X[:, 1])\n",
    "    x1_max = np.amax(X[:, 1])\n",
    "    ax.set_ylim([x1_min - 3, x1_max + 3])\n",
    "\n",
    "    plt.show()\n",
    "\n",
    "visualize_svm()\n",
    "\n"
   ]
  },
  {
   "cell_type": "markdown",
   "id": "e19fbb3f",
   "metadata": {},
   "source": [
    "##  PCA on iris dataset"
   ]
  },
  {
   "cell_type": "code",
   "execution_count": null,
   "id": "4ab2e8af",
   "metadata": {},
   "outputs": [],
   "source": [
    "import numpy as np\n",
    "import pandas as pd\n",
    "import matplotlib.pyplot as plt"
   ]
  },
  {
   "cell_type": "code",
   "execution_count": null,
   "id": "d92a5a3c",
   "metadata": {},
   "outputs": [],
   "source": [
    "df=pd.read_csv('iris.csv')\n",
    "df"
   ]
  },
  {
   "cell_type": "code",
   "execution_count": null,
   "id": "69534d6d",
   "metadata": {},
   "outputs": [],
   "source": [
    "# seperating the species column from iris data\n",
    "\n",
    "species = df[\"species\"].tolist()\n",
    "X = df.drop(\"species\", 1)\n",
    "X"
   ]
  },
  {
   "cell_type": "code",
   "execution_count": null,
   "id": "f2d099c8",
   "metadata": {},
   "outputs": [],
   "source": [
    "# Standardize the data\n",
    "X = (X - X.mean()) / X.std(ddof=0)\n"
   ]
  },
  {
   "cell_type": "code",
   "execution_count": null,
   "id": "c5613e4b",
   "metadata": {},
   "outputs": [],
   "source": [
    "# Calculating the correlation matrix of the data\n",
    "X_corr = (1 / 150) * X.T.dot(X)"
   ]
  },
  {
   "cell_type": "code",
   "execution_count": null,
   "id": "3f1e81bf",
   "metadata": {},
   "outputs": [],
   "source": [
    "X_corr"
   ]
  },
  {
   "cell_type": "code",
   "execution_count": null,
   "id": "750f8809",
   "metadata": {},
   "outputs": [],
   "source": [
    "# extract the eign values and their respective eigen vectors using numpy\n",
    "\n",
    "u,s,v = np.linalg.svd(X_corr)\n",
    "eig_values, eig_vectors = s, u\n",
    "eig_values, eig_vectors"
   ]
  },
  {
   "cell_type": "code",
   "execution_count": null,
   "id": "d6479b26",
   "metadata": {},
   "outputs": [],
   "source": [
    "# we can neglect eigen values 3 and 4 ,so select respective eigen vectors as principle Axes \n",
    "#as much of the data is preserved along pc1 and pc2\n",
    "\n",
    "# calculating our new axis\n",
    "pc1 = X.dot(eig_vectors[:,0])\n",
    "pc2 = X.dot(eig_vectors[:,1])"
   ]
  },
  {
   "cell_type": "code",
   "execution_count": null,
   "id": "b54aa95e",
   "metadata": {},
   "outputs": [],
   "source": [
    "# plotting in 2D\n",
    "def plot_scatter(pc1, pc2):\n",
    "    fig, ax = plt.subplots(figsize=(15, 8))\n",
    "    \n",
    "    species_unique = list(set(species))\n",
    "    species_colors = [\"r\",\"b\",\"g\"]\n",
    "    \n",
    "    for i, spec in enumerate(species):\n",
    "        plt.scatter(pc1[i], pc2[i], label = spec, s = 20, c=species_colors[species_unique.index(spec)])\n",
    "        ax.annotate(str(i+1), (pc1[i],pc2[i]))\n",
    "    \n",
    "    from collections import OrderedDict\n",
    "    handles, labels = plt.gca().get_legend_handles_labels()\n",
    "    by_label = OrderedDict(zip(labels, handles))\n",
    "    plt.legend(by_label.values(), by_label.keys(), prop={'size': 12}, loc=4)\n",
    "    \n",
    "    ax.set_xlabel('Principal Component 1', fontsize = 12)\n",
    "    ax.set_ylabel('Principal Component 2', fontsize = 12)\n",
    "    ax.axhline(y=0, color=\"grey\", linestyle=\"--\")\n",
    "    ax.axvline(x=0, color=\"grey\", linestyle=\"--\")\n",
    "    \n",
    "    plt.grid()\n",
    "    plt.axis([-4, 4, -3, 3])\n",
    "    plt.show()\n",
    "    \n",
    "plot_scatter(pc1, pc2)"
   ]
  },
  {
   "cell_type": "code",
   "execution_count": null,
   "id": "32c93293",
   "metadata": {},
   "outputs": [],
   "source": []
  }
 ],
 "metadata": {
  "kernelspec": {
   "display_name": "Python 3 (ipykernel)",
   "language": "python",
   "name": "python3"
  },
  "language_info": {
   "codemirror_mode": {
    "name": "ipython",
    "version": 3
   },
   "file_extension": ".py",
   "mimetype": "text/x-python",
   "name": "python",
   "nbconvert_exporter": "python",
   "pygments_lexer": "ipython3",
   "version": "3.9.7"
  }
 },
 "nbformat": 4,
 "nbformat_minor": 5
}
